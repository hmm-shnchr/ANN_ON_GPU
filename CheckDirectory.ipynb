{
 "cells": [
  {
   "cell_type": "code",
   "execution_count": 2,
   "metadata": {},
   "outputs": [],
   "source": [
    "import numpy as np\n",
    "import os, sys"
   ]
  },
  {
   "cell_type": "code",
   "execution_count": 5,
   "metadata": {},
   "outputs": [
    {
     "name": "stdout",
     "output_type": "stream",
     "text": [
      "--Directories--\n",
      "1. 2in_8out/x_5layers_100neurons_BatchNorm_RE_to_MSE_RE_1e-3lr_500epoch_Standardization_All_acc_1/\n",
      "2. 2in_8out/x_5layers_100neurons_BatchNorm_RE_to_MSE_RE_1e-3lr_500epoch_Standardization_All_1/\n",
      "3. 2in_8out/x_5layers_100neurons_BatchNorm_RE_to_MSE_RE_1e-3lr_500epoch_Standardization_All_1/AdditionalLearning1/\n",
      "4. 2in_8out/x_5layers_100neurons_BatchNorm_RE_to_MSE_RE_1e-3lr_500epoch_Standardization_All_1/AdditionalLearning2/\n",
      "5. 2in_8out/x_5layers_100neurons_BatchNorm_RE_to_MSE_RE_1e-3lr_500epoch_Standardization_All_1/AdditionalLearning3/\n",
      "6. 2in_8out/x_5layers_100neurons_BatchNorm_RE_to_MSE_RE_1e-3lr_500epoch_Standardization_All_1/AdditionalLearning3/AdditionalLearning1/\n"
     ]
    }
   ],
   "source": [
    "##Print a dir_list which is a list of ectracted parameters.\n",
    "##The parameters are made by ./parameter/MakePickleOfParam.ipynb.\n",
    "dir_list = np.loadtxt(\"directory_list.txt\", dtype = \"str\")\n",
    "for i in range(len(dir_list)):\n",
    "    if i == 0:\n",
    "        print(dir_list[i])\n",
    "    else:\n",
    "        print(\"{}. {}\".format(i, dir_list[i]))"
   ]
  },
  {
   "cell_type": "code",
   "execution_count": 8,
   "metadata": {},
   "outputs": [
    {
     "name": "stdout",
     "output_type": "stream",
     "text": [
      "1. Read an AboutDirectory.txt.\n",
      "2. Exit.\n",
      ">> 1\n",
      "Directory index>> 2\n",
      "Mainbranch : mainbranch_MW039.csv, mainbranch_MW038.csv, mainbranch_MW035.csv, mainbranch_MW034.csv, mainbranch_MW033.csv, mainbranch_MW032.csv\n",
      "Used parameter.pickle : param_1e+7_1e+18_ScaleFactor_ID_pid_Mvir_Rvir_x_vx_MW039_MW038_MW035_MW034_MW033_MW032.pickle\n",
      "Predicted parameter : x\n",
      "Add bias to dataset : False\n",
      "Input size : 2, Output size : 8\n",
      "Hidden layers : 100*4 + 50\n",
      "Batch normalization : True\n",
      "Batch size denominator : 400\n",
      "Activation function : tanhexp\n",
      "Weight initialize condition : he\n",
      "Lastlayer's activation function is identity : True\n",
      "Loss function : RE_to_MSE_RE\n",
      "Optimizer : AdaBound\n",
      "Learning rate : 1e-3\n",
      "Epoch : 500\n",
      "Normalization format of dataset : Standardization\n",
      "Extracted dataset : All\n",
      "Ratio of training dataset to all dataset : 0.8\n",
      "\n",
      "1. Read an AboutDirectory.txt.\n",
      "2. Exit.\n",
      ">> 2\n"
     ]
    }
   ],
   "source": [
    "is_read = True\n",
    "while is_read:\n",
    "    print(\"1. Read an AboutDirectory.txt.\")\n",
    "    print(\"2. Exit.\")\n",
    "    menu = int(input(\">> \"))\n",
    "    if menu == 1:\n",
    "        dir_i = int(input(\"Directory index>> \"))\n",
    "        if dir_i < 1 or dir_i > len(dir_list) - 1:\n",
    "            print(\"Invalid index.\")\n",
    "        else:\n",
    "            print(\"\\n\" + dir_list[dir_i])\n",
    "            with open(dir_list[dir_i] + \"AboutThisDirectory.txt\", mode = \"rt\") as f:\n",
    "                info = f.read()\n",
    "                print(info)\n",
    "    elif menu == 2:\n",
    "        is_read = False\n",
    "    else:\n",
    "        pass"
   ]
  }
 ],
 "metadata": {
  "kernelspec": {
   "display_name": "Python 3",
   "language": "python",
   "name": "python3"
  },
  "language_info": {
   "codemirror_mode": {
    "name": "ipython",
    "version": 3
   },
   "file_extension": ".py",
   "mimetype": "text/x-python",
   "name": "python",
   "nbconvert_exporter": "python",
   "pygments_lexer": "ipython3",
   "version": "3.8.5"
  }
 },
 "nbformat": 4,
 "nbformat_minor": 4
}
